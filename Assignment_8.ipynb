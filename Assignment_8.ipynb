{
 "cells": [
  {
   "cell_type": "code",
   "execution_count": 1,
   "id": "fa7be843",
   "metadata": {},
   "outputs": [
    {
     "name": "stdout",
     "output_type": "stream",
     "text": [
      "The sum of the array is 15\n"
     ]
    }
   ],
   "source": [
    "# Write a Python Program to find sum of array?\n",
    "\n",
    "arr = [1, 2, 3, 4, 5]\n",
    "\n",
    "sum = 0\n",
    "for num in arr:\n",
    "    sum += num\n",
    "\n",
    "print(f\"The sum of the array is {sum}\")"
   ]
  },
  {
   "cell_type": "code",
   "execution_count": 2,
   "id": "3d2eb92b",
   "metadata": {},
   "outputs": [
    {
     "name": "stdout",
     "output_type": "stream",
     "text": [
      "Enter the elements of the array separated by space: 1 5 7 9 4 2 4\n",
      "The largest element in the array is 9\n"
     ]
    }
   ],
   "source": [
    "# Write a Python Program to find largest element in an array?\n",
    "\n",
    "arr = list(map(int, input(\"Enter the elements of the array separated by space: \").split()))\n",
    "\n",
    "max = arr[0]\n",
    "\n",
    "for num in arr:\n",
    "    if num > max:\n",
    "        max = num\n",
    "\n",
    "print(f\"The largest element in the array is {max}\")\n"
   ]
  },
  {
   "cell_type": "code",
   "execution_count": 3,
   "id": "13f8ca22",
   "metadata": {},
   "outputs": [
    {
     "name": "stdout",
     "output_type": "stream",
     "text": [
      "Enter the number of rotations: 4\n",
      "The rotated array is [5, 1, 2, 3, 4]\n"
     ]
    }
   ],
   "source": [
    "# Write a Python Program for array rotation?\n",
    "\n",
    "arr = [1, 2, 3, 4, 5]\n",
    "\n",
    "n = int(input(\"Enter the number of rotations: \"))\n",
    "\n",
    "for i in range(n):\n",
    "    temp = arr[0]\n",
    "    for j in range(len(arr)-1):\n",
    "        arr[j] = arr[j+1]\n",
    "    arr[len(arr)-1] = temp\n",
    "\n",
    "print(f\"The rotated array is {arr}\")"
   ]
  },
  {
   "cell_type": "code",
   "execution_count": 4,
   "id": "32194ec8",
   "metadata": {},
   "outputs": [
    {
     "name": "stdout",
     "output_type": "stream",
     "text": [
      "Enter the elements of the array separated by space: 1 5 3 4 8 4\n",
      "Enter the split position: 2\n",
      "The split and rotated array is [3, 4, 8, 4, 1, 5]\n"
     ]
    }
   ],
   "source": [
    "# Write a Python Program to Split the array and add the first part to the end?\n",
    "\n",
    "arr = list(map(int, input(\"Enter the elements of the array separated by space: \").split()))\n",
    "\n",
    "k = int(input(\"Enter the split position: \"))\n",
    "\n",
    "arr = arr[k:] + arr[:k]\n",
    "\n",
    "print(f\"The split and rotated array is {arr}\")\n"
   ]
  },
  {
   "cell_type": "code",
   "execution_count": 5,
   "id": "ac19cada",
   "metadata": {},
   "outputs": [
    {
     "name": "stdout",
     "output_type": "stream",
     "text": [
      "True\n"
     ]
    }
   ],
   "source": [
    "# Write a Python Program to check if given array is Monotonic?\n",
    "\n",
    "def isMonotonic(A):\n",
    "    x, y = [], []\n",
    "    x.extend(A)\n",
    "    y.extend(A)\n",
    "    x.sort()\n",
    "    y.sort(reverse=True)\n",
    "    if(x == A or y == A):\n",
    "        return True\n",
    "    return False\n",
    "\n",
    "\n",
    "A = [6, 5, 4, 4]\n",
    "\n",
    "print(isMonotonic(A))"
   ]
  },
  {
   "cell_type": "code",
   "execution_count": 6,
   "id": "4022ed25",
   "metadata": {},
   "outputs": [
    {
     "name": "stdout",
     "output_type": "stream",
     "text": [
      "The sum of the two matrices is:\n",
      "[11, 13, 15]\n",
      "[17, 19, 21]\n",
      "[23, 25, 27]\n"
     ]
    }
   ],
   "source": [
    "# Write a Python Program to Add Two Matrices?\n",
    "\n",
    "\n",
    "matrix1 = [[1, 2, 3],\n",
    "           [4, 5, 6],\n",
    "           [7, 8, 9]]\n",
    "\n",
    "matrix2 = [[10, 11, 12],\n",
    "           [13, 14, 15],\n",
    "           [16, 17, 18]]\n",
    "\n",
    "result_matrix = []\n",
    "\n",
    "for i in range(len(matrix1)):\n",
    "    row = []\n",
    "    for j in range(len(matrix1[i])):\n",
    "        row.append(matrix1[i][j] + matrix2[i][j])\n",
    "    result_matrix.append(row)\n",
    "\n",
    "print(\"The sum of the two matrices is:\")\n",
    "for row in result_matrix:\n",
    "    print(row)\n"
   ]
  },
  {
   "cell_type": "code",
   "execution_count": 7,
   "id": "1d2956ff",
   "metadata": {},
   "outputs": [
    {
     "name": "stdout",
     "output_type": "stream",
     "text": [
      "The product of the two matrices is:\n",
      "[19, 22]\n",
      "[43, 50]\n"
     ]
    }
   ],
   "source": [
    "# Write a Python Program to Multiply Two Matrices?\n",
    "\n",
    "matrix1 = [[1, 2],\n",
    "           [3, 4]]\n",
    "\n",
    "matrix2 = [[5, 6],\n",
    "           [7, 8]]\n",
    "\n",
    "result_matrix = [[0, 0],\n",
    "                 [0, 0]]\n",
    "\n",
    "for i in range(len(matrix1)):\n",
    "    for j in range(len(matrix2[0])):\n",
    "        for k in range(len(matrix2)):\n",
    "            result_matrix[i][j] += matrix1[i][k] * matrix2[k][j]\n",
    "\n",
    "print(\"The product of the two matrices is:\")\n",
    "for row in result_matrix:\n",
    "    print(row)"
   ]
  },
  {
   "cell_type": "code",
   "execution_count": 9,
   "id": "178218c7",
   "metadata": {},
   "outputs": [
    {
     "name": "stdout",
     "output_type": "stream",
     "text": [
      "The transposed matrix is:\n",
      "[1, 4, 7]\n",
      "[2, 5, 8]\n",
      "[3, 6, 9]\n"
     ]
    }
   ],
   "source": [
    "# Write a Python Program to Transpose a Matrix?\n",
    "\n",
    "matrix = [[1, 2, 3],\n",
    "          [4, 5, 6],\n",
    "          [7, 8, 9]]\n",
    "\n",
    "result_matrix = [[0, 0, 0],\n",
    "                 [0, 0, 0],\n",
    "                 [0, 0, 0]]\n",
    "\n",
    "for i in range(len(matrix)):\n",
    "    for j in range(len(matrix[0])):\n",
    "        result_matrix[j][i] = matrix[i][j]\n",
    "\n",
    "print(\"The transposed matrix is:\")\n",
    "for row in result_matrix:\n",
    "    print(row)"
   ]
  },
  {
   "cell_type": "code",
   "execution_count": 11,
   "id": "11ef03cc",
   "metadata": {},
   "outputs": [
    {
     "name": "stdout",
     "output_type": "stream",
     "text": [
      "Enter a sentence: fcd cadv acv\n",
      "The sorted words are:\n",
      "acv\n",
      "cadv\n",
      "fcd\n"
     ]
    }
   ],
   "source": [
    "# Write a Python Program to Sort Words in Alphabetic Order?\n",
    "\n",
    "words = input(\"Enter a sentence: \")\n",
    "\n",
    "words_list = words.split()\n",
    "\n",
    "words_list.sort()\n",
    "\n",
    "print(\"The sorted words are:\")\n",
    "for word in words_list:\n",
    "    print(word)"
   ]
  },
  {
   "cell_type": "code",
   "execution_count": 12,
   "id": "71d8cbdc",
   "metadata": {},
   "outputs": [
    {
     "name": "stdout",
     "output_type": "stream",
     "text": [
      "Enter a string: Hi, swaraj\n",
      "The string without punctuation is:\n",
      "Hi swaraj\n"
     ]
    }
   ],
   "source": [
    "# Write a Python Program to Remove Punctuation From a String?\n",
    "\n",
    "import string\n",
    "\n",
    "input_string = input(\"Enter a string: \")\n",
    "\n",
    "no_punct_string = input_string.translate(str.maketrans(\"\", \"\", string.punctuation))\n",
    "\n",
    "print(\"The string without punctuation is:\")\n",
    "print(no_punct_string)"
   ]
  },
  {
   "cell_type": "code",
   "execution_count": null,
   "id": "75b74ff4",
   "metadata": {},
   "outputs": [],
   "source": []
  },
  {
   "cell_type": "code",
   "execution_count": null,
   "id": "cd7e051e",
   "metadata": {},
   "outputs": [],
   "source": []
  },
  {
   "cell_type": "code",
   "execution_count": null,
   "id": "a2b13be9",
   "metadata": {},
   "outputs": [],
   "source": []
  },
  {
   "cell_type": "code",
   "execution_count": null,
   "id": "355703e1",
   "metadata": {},
   "outputs": [],
   "source": []
  }
 ],
 "metadata": {
  "kernelspec": {
   "display_name": "Python 3 (ipykernel)",
   "language": "python",
   "name": "python3"
  },
  "language_info": {
   "codemirror_mode": {
    "name": "ipython",
    "version": 3
   },
   "file_extension": ".py",
   "mimetype": "text/x-python",
   "name": "python",
   "nbconvert_exporter": "python",
   "pygments_lexer": "ipython3",
   "version": "3.9.5"
  }
 },
 "nbformat": 4,
 "nbformat_minor": 5
}
