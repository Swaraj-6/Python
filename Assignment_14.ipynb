{
 "cells": [
  {
   "cell_type": "code",
   "execution_count": 4,
   "id": "0e72837c",
   "metadata": {},
   "outputs": [
    {
     "name": "stdout",
     "output_type": "stream",
     "text": [
      "[0, 7, 14, 21, 28, 35, 42, 49, 56, 63, 70, 77, 84, 91, 98]\n"
     ]
    }
   ],
   "source": [
    "# Question 1:\n",
    "class DivisibleBySeven:\n",
    "    def __init__(self, n):\n",
    "        self.n = n\n",
    "\n",
    "    def generate_numbers(self):\n",
    "        l=[]\n",
    "        for i in range(self.n+1):\n",
    "            if i % 7 == 0:\n",
    "                l.append(i)\n",
    "        return l\n",
    "\n",
    "obj = DivisibleBySeven(100)\n",
    "print(obj.generate_numbers())"
   ]
  },
  {
   "cell_type": "code",
   "execution_count": 5,
   "id": "662fda41",
   "metadata": {},
   "outputs": [
    {
     "name": "stdout",
     "output_type": "stream",
     "text": [
      "Enter some text: New to Python or choosing between Python 2 and Python 3? Read Python 2 or Python 3.\n",
      "2:2\n",
      "3:2\n",
      "and:1\n",
      "between:1\n",
      "choosing:1\n",
      "new:1\n",
      "or:2\n",
      "python:5\n",
      "read:1\n",
      "to:1\n"
     ]
    }
   ],
   "source": [
    "# Question 2:\n",
    "text = input(\"Enter some text: \")\n",
    "\n",
    "for char in '.,?!':\n",
    "    text = text.replace(char, '').lower()\n",
    "\n",
    "word_freq = {}\n",
    "for word in text.split():\n",
    "    if word not in word_freq:\n",
    "        word_freq[word] = 0\n",
    "    word_freq[word] += 1\n",
    "\n",
    "for word in sorted(word_freq):\n",
    "    print(word + ':' + str(word_freq[word]))\n"
   ]
  },
  {
   "cell_type": "code",
   "execution_count": 6,
   "id": "999567e6",
   "metadata": {},
   "outputs": [],
   "source": [
    "# Question 3:\n",
    "class Person:\n",
    "    def getGender(self):\n",
    "        return \"Unknown\"\n",
    "\n",
    "class Male(Person):\n",
    "    def getGender(self):\n",
    "        return \"Male\"\n",
    "\n",
    "class Female(Person):\n",
    "    def getGender(self):\n",
    "        return \"Female\"\n"
   ]
  },
  {
   "cell_type": "code",
   "execution_count": 7,
   "id": "9fc687f7",
   "metadata": {},
   "outputs": [
    {
     "name": "stdout",
     "output_type": "stream",
     "text": [
      "I Play Hockey.\n",
      "I Play Football.\n",
      "I Love Hockey.\n",
      "I Love Football.\n",
      "You Play Hockey.\n",
      "You Play Football.\n",
      "You Love Hockey.\n",
      "You Love Football.\n"
     ]
    }
   ],
   "source": [
    "# Question 4:\n",
    "subjects = [\"I\", \"You\"]\n",
    "verbs = [\"Play\", \"Love\"]\n",
    "objects = [\"Hockey\", \"Football\"]\n",
    "\n",
    "for subject in subjects:\n",
    "    for verb in verbs:\n",
    "        for obj in objects:\n",
    "            sentence = subject + \" \" + verb + \" \" + obj + \".\"\n",
    "            print(sentence)"
   ]
  },
  {
   "cell_type": "code",
   "execution_count": 8,
   "id": "b403a148",
   "metadata": {},
   "outputs": [
    {
     "name": "stdout",
     "output_type": "stream",
     "text": [
      "Original string:  hello world!hello world!hello world!hello world!\n",
      "Compressed string:  b'x\\x9c\\xcbH\\xcd\\xc9\\xc9W(\\xcf/\\xcaIQ\\xcc \\x82\\r\\x00\\xbd[\\x11\\xf5'\n",
      "Decompressed string:  hello world!hello world!hello world!hello world!\n"
     ]
    }
   ],
   "source": [
    "# Question 5:\n",
    "import zlib\n",
    "\n",
    "original_str = \"hello world!hello world!hello world!hello world!\"\n",
    "\n",
    "compressed_str = zlib.compress(original_str.encode('utf-8'))\n",
    "\n",
    "decompressed_str = zlib.decompress(compressed_str)\n",
    "\n",
    "print(\"Original string: \", original_str)\n",
    "print(\"Compressed string: \", compressed_str)\n",
    "print(\"Decompressed string: \", decompressed_str.decode('utf-8'))"
   ]
  },
  {
   "cell_type": "code",
   "execution_count": 9,
   "id": "689f9640",
   "metadata": {},
   "outputs": [
    {
     "name": "stdout",
     "output_type": "stream",
     "text": [
      "Element found at index 4\n"
     ]
    }
   ],
   "source": [
    "# Question 6:\n",
    "def binary_search(arr, x):\n",
    "   \n",
    "    low = 0\n",
    "    high = len(arr) - 1\n",
    "    while low <= high:\n",
    "        mid = (low + high) // 2\n",
    "        if arr[mid] == x:\n",
    "            return mid\n",
    "        elif arr[mid] < x:\n",
    "            low = mid + 1\n",
    "        else:\n",
    "            high = mid - 1\n",
    "    return -1\n",
    "arr = [1, 3, 5, 7, 9, 11, 13, 15]\n",
    "x = 9\n",
    "result = binary_search(arr, x)\n",
    "if result != -1:\n",
    "    print(\"Element found at index\", result)\n",
    "else:\n",
    "    print(\"Element not found in array\")"
   ]
  },
  {
   "cell_type": "code",
   "execution_count": null,
   "id": "7eb78e1f",
   "metadata": {},
   "outputs": [],
   "source": []
  },
  {
   "cell_type": "code",
   "execution_count": null,
   "id": "24e904f7",
   "metadata": {},
   "outputs": [],
   "source": []
  },
  {
   "cell_type": "code",
   "execution_count": null,
   "id": "a060a721",
   "metadata": {},
   "outputs": [],
   "source": []
  },
  {
   "cell_type": "code",
   "execution_count": null,
   "id": "36d7843c",
   "metadata": {},
   "outputs": [],
   "source": []
  },
  {
   "cell_type": "code",
   "execution_count": null,
   "id": "5e70a16b",
   "metadata": {},
   "outputs": [],
   "source": []
  }
 ],
 "metadata": {
  "kernelspec": {
   "display_name": "Python 3 (ipykernel)",
   "language": "python",
   "name": "python3"
  },
  "language_info": {
   "codemirror_mode": {
    "name": "ipython",
    "version": 3
   },
   "file_extension": ".py",
   "mimetype": "text/x-python",
   "name": "python",
   "nbconvert_exporter": "python",
   "pygments_lexer": "ipython3",
   "version": "3.10.9"
  }
 },
 "nbformat": 4,
 "nbformat_minor": 5
}
