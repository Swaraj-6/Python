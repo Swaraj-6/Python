{
 "cells": [
  {
   "cell_type": "code",
   "execution_count": 1,
   "id": "d05e4dca",
   "metadata": {},
   "outputs": [
    {
     "name": "stdout",
     "output_type": "stream",
     "text": [
      "Enter comma-separated sequence of D values: 128,506,702\n",
      "21\n",
      "41\n",
      "48\n"
     ]
    }
   ],
   "source": [
    "# Question 1:\n",
    "import math\n",
    "\n",
    "C = 50\n",
    "H = 30\n",
    "\n",
    "d_values = input(\"Enter comma-separated sequence of D values: \").split(\",\")\n",
    "\n",
    "for d in d_values:\n",
    "    d = int(d)\n",
    "    q = math.sqrt((2 * C * d) / H)\n",
    "    print(round(q))"
   ]
  },
  {
   "cell_type": "code",
   "execution_count": 4,
   "id": "90a2fd96",
   "metadata": {},
   "outputs": [
    {
     "name": "stdout",
     "output_type": "stream",
     "text": [
      "Enter two digits separated by comma: 3,4\n",
      "[[0, 0, 0, 0], [0, 1, 2, 3], [0, 2, 4, 6]]\n"
     ]
    }
   ],
   "source": [
    "# Question 2:\n",
    "x, y = map(int, input(\"Enter two digits separated by comma: \").split(\",\"))\n",
    "\n",
    "arr = []\n",
    "for i in range(x):\n",
    "    row = []\n",
    "    for j in range(y):\n",
    "        row.append(i * j)\n",
    "    arr.append(row)\n",
    "\n",
    "print(arr)"
   ]
  },
  {
   "cell_type": "code",
   "execution_count": 5,
   "id": "07004a05",
   "metadata": {},
   "outputs": [
    {
     "name": "stdout",
     "output_type": "stream",
     "text": [
      "Enter a comma-separated sequence of words: my,name,is,swaraj\n",
      "is,my,name,swaraj\n"
     ]
    }
   ],
   "source": [
    "# Quetion 3:\n",
    "words = input(\"Enter a comma-separated sequence of words: \").split(\",\")\n",
    "\n",
    "words.sort()\n",
    "\n",
    "sorted_words = \",\".join(words)\n",
    "\n",
    "print(sorted_words)"
   ]
  },
  {
   "cell_type": "code",
   "execution_count": 6,
   "id": "a494c7c5",
   "metadata": {},
   "outputs": [
    {
     "name": "stdout",
     "output_type": "stream",
     "text": [
      "hello world and practice makes perfect and hello world again\n",
      "again and hello makes perfect practice world\n"
     ]
    }
   ],
   "source": [
    "# Question 4:\n",
    "words = input().split()  \n",
    "unique_words = sorted(set(words))  \n",
    "print(\" \".join(unique_words))  "
   ]
  },
  {
   "cell_type": "code",
   "execution_count": 7,
   "id": "3e1d5501",
   "metadata": {},
   "outputs": [
    {
     "name": "stdout",
     "output_type": "stream",
     "text": [
      "hello world! 123\n",
      "LETTERS 10\n",
      "DIGITS 3\n"
     ]
    }
   ],
   "source": [
    "# Question 5:\n",
    "sentence = input()  \n",
    "letter_count = 0 \n",
    "digit_count = 0  \n",
    "\n",
    "for char in sentence:\n",
    "    if char.isalpha():  \n",
    "        letter_count += 1  \n",
    "    elif char.isdigit():  \n",
    "        digit_count += 1 \n",
    "\n",
    "print(\"LETTERS\", letter_count)  \n",
    "print(\"DIGITS\", digit_count)  \n"
   ]
  },
  {
   "cell_type": "code",
   "execution_count": 8,
   "id": "75ecfd33",
   "metadata": {},
   "outputs": [
    {
     "name": "stdout",
     "output_type": "stream",
     "text": [
      "ABd1234@1,a F1#,2w3E*,2We3345\n",
      "ABd1234@1\n"
     ]
    }
   ],
   "source": [
    "# Question 6:\n",
    "import re  \n",
    "\n",
    "passwords = input().split(',')  \n",
    "valid_passwords = [] \n",
    "\n",
    "for password in passwords:\n",
    "    if len(password) < 6 or len(password) > 12:\n",
    "        continue  \n",
    "\n",
    "    if not re.search(\"[a-z]\", password):  \n",
    "        continue  \n",
    "\n",
    "    if not re.search(\"[A-Z]\", password):  \n",
    "        continue  \n",
    "\n",
    "    if not re.search(\"[0-9]\", password):  \n",
    "        continue \n",
    "\n",
    "    if not re.search(\"[$#@]\", password): \n",
    "        continue  \n",
    "\n",
    "    valid_passwords.append(password)  \n",
    "\n",
    "print(\",\".join(valid_passwords)) \n"
   ]
  },
  {
   "cell_type": "code",
   "execution_count": null,
   "id": "b6fa90c9",
   "metadata": {},
   "outputs": [],
   "source": []
  },
  {
   "cell_type": "code",
   "execution_count": null,
   "id": "82c3a5f9",
   "metadata": {},
   "outputs": [],
   "source": []
  },
  {
   "cell_type": "code",
   "execution_count": null,
   "id": "617efd2d",
   "metadata": {},
   "outputs": [],
   "source": []
  },
  {
   "cell_type": "code",
   "execution_count": null,
   "id": "d8955d85",
   "metadata": {},
   "outputs": [],
   "source": []
  },
  {
   "cell_type": "code",
   "execution_count": null,
   "id": "ba2b2770",
   "metadata": {},
   "outputs": [],
   "source": []
  }
 ],
 "metadata": {
  "kernelspec": {
   "display_name": "Python 3 (ipykernel)",
   "language": "python",
   "name": "python3"
  },
  "language_info": {
   "codemirror_mode": {
    "name": "ipython",
    "version": 3
   },
   "file_extension": ".py",
   "mimetype": "text/x-python",
   "name": "python",
   "nbconvert_exporter": "python",
   "pygments_lexer": "ipython3",
   "version": "3.10.9"
  }
 },
 "nbformat": 4,
 "nbformat_minor": 5
}
