{
 "cells": [
  {
   "cell_type": "code",
   "execution_count": 2,
   "id": "e776a30f",
   "metadata": {},
   "outputs": [
    {
     "name": "stdout",
     "output_type": "stream",
     "text": [
      "Enter the first number: 5\n",
      "Enter the second number: 4\n",
      "The LCM of 5 and 4 is 20\n"
     ]
    }
   ],
   "source": [
    "# Write a Python Program to Find LCM?\n",
    "\n",
    "def gcd(a, b):\n",
    "    if b == 0:\n",
    "        return a\n",
    "    else:\n",
    "        return gcd(b, a % b)\n",
    "\n",
    "def lcm(a, b):\n",
    "    return (a * b) // gcd(a, b)\n",
    "\n",
    "num1 = int(input(\"Enter the first number: \"))\n",
    "num2 = int(input(\"Enter the second number: \"))\n",
    "\n",
    "lcm_num = lcm(num1, num2)\n",
    "\n",
    "print(\"The LCM of\", num1, \"and\", num2, \"is\", lcm_num)"
   ]
  },
  {
   "cell_type": "code",
   "execution_count": 3,
   "id": "3b27e868",
   "metadata": {},
   "outputs": [
    {
     "name": "stdout",
     "output_type": "stream",
     "text": [
      "Enter the first number: 5\n",
      "Enter the second number: 4\n",
      "The HCF of 5 and 4 is 1\n"
     ]
    }
   ],
   "source": [
    "# Write a Python Program to Find HCF?\n",
    "\n",
    "def hcf(a, b):\n",
    "    if b == 0:\n",
    "        return a\n",
    "    else:\n",
    "        return hcf(b, a % b)\n",
    "\n",
    "num1 = int(input(\"Enter the first number: \"))\n",
    "num2 = int(input(\"Enter the second number: \"))\n",
    "\n",
    "hcf_num = hcf(num1, num2)\n",
    "\n",
    "print(\"The HCF of\", num1, \"and\", num2, \"is\", hcf_num)"
   ]
  },
  {
   "cell_type": "code",
   "execution_count": 4,
   "id": "52d62718",
   "metadata": {},
   "outputs": [
    {
     "name": "stdout",
     "output_type": "stream",
     "text": [
      "Enter a decimal number: 6\n",
      "The decimal number 6 in binary is 0b110\n",
      "The decimal number 6 in octal is 0o6\n",
      "The decimal number 6 in hexadecimal is 0x6\n"
     ]
    }
   ],
   "source": [
    "# Write a Python Program to Convert Decimal to Binary, Octal and Hexadecimal?\n",
    "\n",
    "decimal_num = int(input(\"Enter a decimal number: \"))\n",
    "\n",
    "binary_num = bin(decimal_num)\n",
    "octal_num = oct(decimal_num)\n",
    "hexadecimal_num = hex(decimal_num)\n",
    "\n",
    "print(\"The decimal number\", decimal_num, \"in binary is\", binary_num)\n",
    "print(\"The decimal number\", decimal_num, \"in octal is\", octal_num)\n",
    "print(\"The decimal number\", decimal_num, \"in hexadecimal is\", hexadecimal_num)"
   ]
  },
  {
   "cell_type": "code",
   "execution_count": 5,
   "id": "bfdb0ca3",
   "metadata": {},
   "outputs": [
    {
     "name": "stdout",
     "output_type": "stream",
     "text": [
      "Enter a character: A\n",
      "The ASCII value of A is 65\n"
     ]
    }
   ],
   "source": [
    "# Write a Python Program To Find ASCII value of a character?\n",
    "\n",
    "char = input(\"Enter a character: \")\n",
    "ascii_val = ord(char)\n",
    "print(\"The ASCII value of\", char, \"is\", ascii_val)"
   ]
  },
  {
   "cell_type": "code",
   "execution_count": 6,
   "id": "c811acea",
   "metadata": {},
   "outputs": [
    {
     "name": "stdout",
     "output_type": "stream",
     "text": [
      "Enter the first no.: 5\n",
      "Enter the second no.: 6\n",
      "Addition of 5 and 6 is 11\n",
      "Substraction of 5 and 6 is -1\n",
      "Division of 5 and 6 is 0.8333333333333334\n",
      "Multipication of 5 and 6 is 30\n"
     ]
    }
   ],
   "source": [
    "# Write a Python Program to Make a Simple Calculator with 4 basic mathematical operations?\n",
    "def add(a, b):\n",
    "    return a+b\n",
    "\n",
    "def sub(a,b):\n",
    "    return a-b\n",
    "\n",
    "def div(a,b):\n",
    "    return a/b\n",
    "\n",
    "def mul(a,b):\n",
    "    return a*b\n",
    "\n",
    "n1 = int(input(\"Enter the first no.: \"))\n",
    "n2 = int(input(\"Enter the second no.: \"))\n",
    "print(f\"Addition of {n1} and {n2} is {add(n1,n2)}\")\n",
    "print(f\"Substraction of {n1} and {n2} is {sub(n1,n2)}\")\n",
    "print(f\"Division of {n1} and {n2} is {div(n1,n2)}\")\n",
    "print(f\"Multipication of {n1} and {n2} is {mul(n1,n2)}\")\n",
    "    "
   ]
  },
  {
   "cell_type": "code",
   "execution_count": null,
   "id": "0764cdaf",
   "metadata": {},
   "outputs": [],
   "source": []
  },
  {
   "cell_type": "code",
   "execution_count": null,
   "id": "58b0b5cd",
   "metadata": {},
   "outputs": [],
   "source": []
  }
 ],
 "metadata": {
  "kernelspec": {
   "display_name": "Python 3 (ipykernel)",
   "language": "python",
   "name": "python3"
  },
  "language_info": {
   "codemirror_mode": {
    "name": "ipython",
    "version": 3
   },
   "file_extension": ".py",
   "mimetype": "text/x-python",
   "name": "python",
   "nbconvert_exporter": "python",
   "pygments_lexer": "ipython3",
   "version": "3.9.5"
  }
 },
 "nbformat": 4,
 "nbformat_minor": 5
}
