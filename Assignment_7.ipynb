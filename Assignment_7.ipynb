{
 "cells": [
  {
   "cell_type": "code",
   "execution_count": 1,
   "id": "8e1a716c",
   "metadata": {},
   "outputs": [
    {
     "name": "stdout",
     "output_type": "stream",
     "text": [
      "The sum of the array is 15\n"
     ]
    }
   ],
   "source": [
    "# Write a Python Program to find sum of array?\n",
    "\n",
    "arr = [1, 2, 3, 4, 5]\n",
    "\n",
    "sum = 0\n",
    "for num in arr:\n",
    "    sum += num\n",
    "\n",
    "print(f\"The sum of the array is {sum}\")"
   ]
  },
  {
   "cell_type": "code",
   "execution_count": 2,
   "id": "1a2db8c4",
   "metadata": {},
   "outputs": [
    {
     "name": "stdout",
     "output_type": "stream",
     "text": [
      "Enter the elements of the array separated by space: 1 5 7 9 4 2 4\n",
      "The largest element in the array is 9\n"
     ]
    }
   ],
   "source": [
    "# Write a Python Program to find largest element in an array?\n",
    "\n",
    "arr = list(map(int, input(\"Enter the elements of the array separated by space: \").split()))\n",
    "\n",
    "max = arr[0]\n",
    "\n",
    "for num in arr:\n",
    "    if num > max:\n",
    "        max = num\n",
    "\n",
    "print(f\"The largest element in the array is {max}\")\n"
   ]
  },
  {
   "cell_type": "code",
   "execution_count": 3,
   "id": "370c64a9",
   "metadata": {},
   "outputs": [
    {
     "name": "stdout",
     "output_type": "stream",
     "text": [
      "Enter the number of rotations: 4\n",
      "The rotated array is [5, 1, 2, 3, 4]\n"
     ]
    }
   ],
   "source": [
    "# Write a Python Program for array rotation?\n",
    "\n",
    "arr = [1, 2, 3, 4, 5]\n",
    "\n",
    "n = int(input(\"Enter the number of rotations: \"))\n",
    "\n",
    "for i in range(n):\n",
    "    temp = arr[0]\n",
    "    for j in range(len(arr)-1):\n",
    "        arr[j] = arr[j+1]\n",
    "    arr[len(arr)-1] = temp\n",
    "\n",
    "print(f\"The rotated array is {arr}\")"
   ]
  },
  {
   "cell_type": "code",
   "execution_count": 4,
   "id": "5e806c3a",
   "metadata": {},
   "outputs": [
    {
     "name": "stdout",
     "output_type": "stream",
     "text": [
      "Enter the elements of the array separated by space: 1 5 3 4 8 4\n",
      "Enter the split position: 2\n",
      "The split and rotated array is [3, 4, 8, 4, 1, 5]\n"
     ]
    }
   ],
   "source": [
    "# Write a Python Program to Split the array and add the first part to the end?\n",
    "\n",
    "arr = list(map(int, input(\"Enter the elements of the array separated by space: \").split()))\n",
    "\n",
    "k = int(input(\"Enter the split position: \"))\n",
    "\n",
    "arr = arr[k:] + arr[:k]\n",
    "\n",
    "print(f\"The split and rotated array is {arr}\")\n"
   ]
  },
  {
   "cell_type": "code",
   "execution_count": 5,
   "id": "8db9db50",
   "metadata": {},
   "outputs": [
    {
     "name": "stdout",
     "output_type": "stream",
     "text": [
      "True\n"
     ]
    }
   ],
   "source": [
    "# Write a Python Program to check if given array is Monotonic?\n",
    "\n",
    "def isMonotonic(A):\n",
    "    x, y = [], []\n",
    "    x.extend(A)\n",
    "    y.extend(A)\n",
    "    x.sort()\n",
    "    y.sort(reverse=True)\n",
    "    if(x == A or y == A):\n",
    "        return True\n",
    "    return False\n",
    "\n",
    "\n",
    "A = [6, 5, 4, 4]\n",
    "\n",
    "print(isMonotonic(A))"
   ]
  },
  {
   "cell_type": "code",
   "execution_count": null,
   "id": "292a55c6",
   "metadata": {},
   "outputs": [],
   "source": []
  },
  {
   "cell_type": "code",
   "execution_count": null,
   "id": "d4548d78",
   "metadata": {},
   "outputs": [],
   "source": []
  },
  {
   "cell_type": "code",
   "execution_count": null,
   "id": "e720d57e",
   "metadata": {},
   "outputs": [],
   "source": []
  },
  {
   "cell_type": "code",
   "execution_count": null,
   "id": "c70f0e5c",
   "metadata": {},
   "outputs": [],
   "source": []
  },
  {
   "cell_type": "code",
   "execution_count": null,
   "id": "820e7ec8",
   "metadata": {},
   "outputs": [],
   "source": []
  }
 ],
 "metadata": {
  "kernelspec": {
   "display_name": "Python 3 (ipykernel)",
   "language": "python",
   "name": "python3"
  },
  "language_info": {
   "codemirror_mode": {
    "name": "ipython",
    "version": 3
   },
   "file_extension": ".py",
   "mimetype": "text/x-python",
   "name": "python",
   "nbconvert_exporter": "python",
   "pygments_lexer": "ipython3",
   "version": "3.9.5"
  }
 },
 "nbformat": 4,
 "nbformat_minor": 5
}
