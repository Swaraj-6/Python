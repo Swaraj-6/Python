{
  "cells": [
    {
      "cell_type": "code",
      "execution_count": null,
      "id": "1c30287d",
      "metadata": {
        "id": "1c30287d",
        "outputId": "87a9b2c9-be11-47f7-96e7-c0c4d26e1d60"
      },
      "outputs": [
        {
          "name": "stdout",
          "output_type": "stream",
          "text": [
            "➞ [1, 2]\n",
            "➞ [1, 0, 15]\n",
            "➞ [1, 2, 123]\n"
          ]
        }
      ],
      "source": [
        "# Question 1\n",
        "def filter_list(list):\n",
        "    out_string = []\n",
        "    for ele in list:\n",
        "        if type(ele) == int and ele >= 0:\n",
        "            out_string.append(ele)\n",
        "    return out_string\n",
        "            \n",
        "print(f'➞ {filter_list([1, 2, \"a\", \"b\"])}')\n",
        "print(f'➞ {filter_list([1, \"a\", \"b\", 0, 15])}')\n",
        "print(f'➞ {filter_list([1, 2, \"aasf\", \"1\", \"123\", 123])}')"
      ]
    },
    {
      "cell_type": "code",
      "execution_count": null,
      "id": "81e995e8",
      "metadata": {
        "id": "81e995e8",
        "outputId": "aac75ee3-830a-4481-b208-e6ce665427ad"
      },
      "outputs": [
        {
          "name": "stdout",
          "output_type": "stream",
          "text": [
            "Hello World ➞ DLROw OLLEh\n",
            "ReVeRsE ➞ eSrEvEr\n",
            "Radar ➞ RADAr\n"
          ]
        }
      ],
      "source": [
        "# Question 2\n",
        "def reverse(in_string):\n",
        "    print(f'{in_string} ➞ {in_string[::-1].swapcase()}')\n",
        "    \n",
        "reverse('Hello World')\n",
        "reverse(\"ReVeRsE\")\n",
        "reverse(\"Radar\")"
      ]
    },
    {
      "cell_type": "code",
      "execution_count": null,
      "id": "d5bdb1e6",
      "metadata": {
        "id": "d5bdb1e6",
        "outputId": "9a7b4814-8400-41e0-c49a-5435612ca4c7"
      },
      "outputs": [
        {
          "name": "stdout",
          "output_type": "stream",
          "text": [
            "first ➞ 1\n",
            "middle ➞ [2, 3, 4, 5]\n",
            "last ➞ 6\n"
          ]
        }
      ],
      "source": [
        "# Question 3\n",
        "first, *middle, last = [1,2,3,4,5,6]\n",
        "print(f'first ➞ {first}')\n",
        "print(f'middle ➞ {middle}')\n",
        "print(f'last ➞ {last}')"
      ]
    },
    {
      "cell_type": "code",
      "execution_count": null,
      "id": "a25eaa73",
      "metadata": {
        "id": "a25eaa73",
        "outputId": "3284e148-f007-4fc5-d2b5-d93687590d00"
      },
      "outputs": [
        {
          "name": "stdout",
          "output_type": "stream",
          "text": [
            "factorial(5) ➞ 120\n",
            "factorial(3) ➞ 6\n",
            "factorial(1) ➞ 1\n",
            "factorial(0) ➞ 1\n"
          ]
        }
      ],
      "source": [
        "# Question 4\n",
        "def factorial(n):\n",
        "    if n==0:\n",
        "        return 1\n",
        "    return n * factorial(n-1)\n",
        "\n",
        "print(f'factorial(5) ➞ {factorial(5)}')\n",
        "print(f'factorial(3) ➞ {factorial(3)}')\n",
        "print(f'factorial(1) ➞ {factorial(1)}')\n",
        "print(f'factorial(0) ➞ {factorial(0)}')"
      ]
    },
    {
      "cell_type": "code",
      "execution_count": null,
      "id": "496cc1c2",
      "metadata": {
        "id": "496cc1c2",
        "outputId": "cf7f4a2d-2bee-41a7-b0b5-cd866ef50fc6"
      },
      "outputs": [
        {
          "name": "stdout",
          "output_type": "stream",
          "text": [
            "move_to_end([1, 3, 2, 4, 4, 1], 1) ➞ [3, 2, 4, 4, 1, 1]\n",
            "move_to_end([7, 8, 9, 1, 2, 3, 4], 9) ➞ [7, 8, 1, 2, 3, 4, 9]\n",
            "move_to_end([\"a\", \"a\", \"a\", \"b\"], \"a\") ➞ ['b', 'a', 'a', 'a']\n"
          ]
        }
      ],
      "source": [
        "# Question 5\n",
        "def move_to_end(list,num):\n",
        "    first_end = []\n",
        "    second_end = []\n",
        "    for ele in list:\n",
        "        if ele == num:\n",
        "            second_end.append(ele)\n",
        "        else:\n",
        "            first_end.append(ele)\n",
        "    first_end.extend(second_end)\n",
        "    return first_end\n",
        "    \n",
        "print(f'move_to_end([1, 3, 2, 4, 4, 1], 1) ➞ {move_to_end([1, 3, 2, 4, 4, 1], 1)}')\n",
        "print(f'move_to_end([7, 8, 9, 1, 2, 3, 4], 9) ➞ {move_to_end([7, 8, 9, 1, 2, 3, 4], 9)}')\n",
        "print(f'move_to_end([\"a\", \"a\", \"a\", \"b\"], \"a\") ➞ {move_to_end([\"a\", \"a\", \"a\", \"b\"], \"a\")}')"
      ]
    }
  ],
  "metadata": {
    "kernelspec": {
      "display_name": "Python 3",
      "language": "python",
      "name": "python3"
    },
    "language_info": {
      "codemirror_mode": {
        "name": "ipython",
        "version": 3
      },
      "file_extension": ".py",
      "mimetype": "text/x-python",
      "name": "python",
      "nbconvert_exporter": "python",
      "pygments_lexer": "ipython3",
      "version": "3.8.8"
    },
    "colab": {
      "provenance": []
    }
  },
  "nbformat": 4,
  "nbformat_minor": 5
}