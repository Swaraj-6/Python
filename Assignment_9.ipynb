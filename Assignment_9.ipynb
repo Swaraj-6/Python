{
 "cells": [
  {
   "cell_type": "code",
   "execution_count": 1,
   "id": "80d60cac",
   "metadata": {},
   "outputs": [
    {
     "name": "stdout",
     "output_type": "stream",
     "text": [
      "Enter the no.175\n",
      "True\n"
     ]
    }
   ],
   "source": [
    "# 1. Write a Python program to check if the given number is a Disarium Number?\n",
    "n = str(input(\"Enter the no.\"))\n",
    "l = []\n",
    "for i in range(len(n)):\n",
    "    l.append(int(n[i]))\n",
    "    \n",
    "s=0\n",
    "for i in range(1, len(n)+1):\n",
    "    s+=l[i-1]**i\n",
    "    \n",
    "if(s==int(n)):\n",
    "    print(True)\n",
    "else:\n",
    "    print(False)"
   ]
  },
  {
   "cell_type": "code",
   "execution_count": 2,
   "id": "1f8ea3ad",
   "metadata": {},
   "outputs": [
    {
     "name": "stdout",
     "output_type": "stream",
     "text": [
      "1\n",
      "2\n",
      "3\n",
      "4\n",
      "5\n",
      "6\n",
      "7\n",
      "8\n",
      "9\n",
      "89\n"
     ]
    }
   ],
   "source": [
    "# Write a Python program to print all disarium numbers between 1 to 100?\n",
    "\n",
    "for i in range(1,101):\n",
    "    l=[]\n",
    "    n =str(i)\n",
    "    for i in range(len(n)):\n",
    "        l.append(int(n[i]))\n",
    "    s=0\n",
    "    for i in range(1, len(n)+1):\n",
    "        s+=l[i-1]**i\n",
    "\n",
    "    if(s==int(n)):\n",
    "        print(n)\n",
    "   "
   ]
  },
  {
   "cell_type": "code",
   "execution_count": 7,
   "id": "b7240781",
   "metadata": {},
   "outputs": [
    {
     "name": "stdout",
     "output_type": "stream",
     "text": [
      "Enter a no.19\n",
      "True\n"
     ]
    }
   ],
   "source": [
    "# Write a Python program to check if the given number is Happy Number?\n",
    "def happy(n):\n",
    "    s = set()\n",
    "    while n!=1:\n",
    "        n = sum(int(i)**2 for i in str(n))\n",
    "        if n in s:\n",
    "            return False\n",
    "        s.add(n)\n",
    "\n",
    "    return True\n",
    "\n",
    "n = int(input(\"Enter a no.\"))\n",
    "print(happy(n))"
   ]
  },
  {
   "cell_type": "code",
   "execution_count": 9,
   "id": "6db15708",
   "metadata": {},
   "outputs": [
    {
     "name": "stdout",
     "output_type": "stream",
     "text": [
      "1\n",
      "7\n",
      "10\n",
      "13\n",
      "19\n",
      "23\n",
      "28\n",
      "31\n",
      "32\n",
      "44\n",
      "49\n",
      "68\n",
      "70\n",
      "79\n",
      "82\n",
      "86\n",
      "91\n",
      "94\n",
      "97\n",
      "100\n"
     ]
    }
   ],
   "source": [
    "# Write a Python program to print all happy numbers between 1 and 100?\n",
    "def happy(n):\n",
    "    n = int(n)\n",
    "    s = set()\n",
    "    while n!=1:\n",
    "        n = sum(int(i)**2 for i in str(n))\n",
    "        if n in s:\n",
    "            return False\n",
    "        s.add(n)\n",
    "    return True\n",
    "\n",
    "for i in range(1,101):\n",
    "    if happy(i):\n",
    "        print(i)"
   ]
  },
  {
   "cell_type": "code",
   "execution_count": 12,
   "id": "578475ec",
   "metadata": {},
   "outputs": [
    {
     "name": "stdout",
     "output_type": "stream",
     "text": [
      "Enter the no.18\n",
      "True\n"
     ]
    }
   ],
   "source": [
    "# Write a Python program to determine whether the given number is a Harshad Number?\n",
    "n = str(input(\"Enter the no.\"))\n",
    "l = []\n",
    "for i in range(len(n)):\n",
    "    l.append(int(n[i]))\n",
    "temp = int(n)\n",
    "if temp%sum(l)==0:\n",
    "    print(True)\n",
    "else:\n",
    "    print(False)"
   ]
  },
  {
   "cell_type": "code",
   "execution_count": 15,
   "id": "811d42af",
   "metadata": {},
   "outputs": [
    {
     "name": "stdout",
     "output_type": "stream",
     "text": [
      "2\n",
      "6\n",
      "12\n",
      "20\n",
      "30\n",
      "42\n",
      "56\n",
      "72\n",
      "90\n",
      "110\n",
      "132\n",
      "156\n",
      "182\n",
      "210\n",
      "240\n",
      "272\n",
      "306\n",
      "342\n",
      "380\n",
      "420\n",
      "462\n",
      "506\n",
      "552\n",
      "600\n",
      "650\n",
      "702\n",
      "756\n",
      "812\n",
      "870\n",
      "930\n",
      "992\n",
      "1056\n",
      "1122\n",
      "1190\n",
      "1260\n",
      "1332\n",
      "1406\n",
      "1482\n",
      "1560\n",
      "1640\n",
      "1722\n",
      "1806\n",
      "1892\n",
      "1980\n",
      "2070\n",
      "2162\n",
      "2256\n",
      "2352\n",
      "2450\n",
      "2550\n",
      "2652\n",
      "2756\n",
      "2862\n",
      "2970\n",
      "3080\n",
      "3192\n",
      "3306\n",
      "3422\n",
      "3540\n",
      "3660\n",
      "3782\n",
      "3906\n",
      "4032\n",
      "4160\n",
      "4290\n",
      "4422\n",
      "4556\n",
      "4692\n",
      "4830\n",
      "4970\n",
      "5112\n",
      "5256\n",
      "5402\n",
      "5550\n",
      "5700\n",
      "5852\n",
      "6006\n",
      "6162\n",
      "6320\n",
      "6480\n",
      "6642\n",
      "6806\n",
      "6972\n",
      "7140\n",
      "7310\n",
      "7482\n",
      "7656\n",
      "7832\n",
      "8010\n",
      "8190\n",
      "8372\n",
      "8556\n",
      "8742\n",
      "8930\n",
      "9120\n",
      "9312\n",
      "9506\n",
      "9702\n",
      "9900\n",
      "10100\n"
     ]
    }
   ],
   "source": [
    "# Write a Python program to print all pronic numbers between 1 and 100?\n",
    "for i in range(1,101):\n",
    "    print(i*(i+1))"
   ]
  },
  {
   "cell_type": "code",
   "execution_count": null,
   "id": "ec4af47b",
   "metadata": {},
   "outputs": [],
   "source": []
  },
  {
   "cell_type": "code",
   "execution_count": null,
   "id": "cbe721c0",
   "metadata": {},
   "outputs": [],
   "source": []
  },
  {
   "cell_type": "code",
   "execution_count": null,
   "id": "1549d423",
   "metadata": {},
   "outputs": [],
   "source": []
  },
  {
   "cell_type": "code",
   "execution_count": null,
   "id": "e5c98d20",
   "metadata": {},
   "outputs": [],
   "source": []
  },
  {
   "cell_type": "code",
   "execution_count": null,
   "id": "68c377d7",
   "metadata": {},
   "outputs": [],
   "source": []
  }
 ],
 "metadata": {
  "kernelspec": {
   "display_name": "Python 3 (ipykernel)",
   "language": "python",
   "name": "python3"
  },
  "language_info": {
   "codemirror_mode": {
    "name": "ipython",
    "version": 3
   },
   "file_extension": ".py",
   "mimetype": "text/x-python",
   "name": "python",
   "nbconvert_exporter": "python",
   "pygments_lexer": "ipython3",
   "version": "3.10.9"
  }
 },
 "nbformat": 4,
 "nbformat_minor": 5
}
