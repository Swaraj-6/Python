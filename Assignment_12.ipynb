{
 "cells": [
  {
   "cell_type": "code",
   "execution_count": 1,
   "id": "a19a0b00",
   "metadata": {},
   "outputs": [
    {
     "name": "stdout",
     "output_type": "stream",
     "text": [
      "[1, 2, 3]\n"
     ]
    }
   ],
   "source": [
    "# Write a Python program to Extract Unique values dictionary values?\n",
    "my_dict = {\"a\": 1, \"b\": 2, \"c\": 1, \"d\": 3}\n",
    "u = []\n",
    "for i in my_dict.values():\n",
    "    if i not in u:\n",
    "        u.append(i)\n",
    "        \n",
    "print(u)"
   ]
  },
  {
   "cell_type": "code",
   "execution_count": 2,
   "id": "efcff012",
   "metadata": {},
   "outputs": [
    {
     "name": "stdout",
     "output_type": "stream",
     "text": [
      "7\n"
     ]
    }
   ],
   "source": [
    "# Write a Python program to find the sum of all items in a dictionary?\n",
    "my_dict = {\"a\": 1, \"b\": 2, \"c\": 1, \"d\": 3}\n",
    "u = []\n",
    "for i in my_dict.values():\n",
    "    u.append(i)\n",
    "        \n",
    "print(sum(u))"
   ]
  },
  {
   "cell_type": "code",
   "execution_count": 5,
   "id": "d6db0dbb",
   "metadata": {},
   "outputs": [
    {
     "name": "stdout",
     "output_type": "stream",
     "text": [
      "{'a': 1, 'b': 2, 'c': 3, 'd': 4, 'e': 5}\n"
     ]
    }
   ],
   "source": [
    "# Write a Python program to Merging two Dictionaries?\n",
    "dict1 = {\"a\": 1, \"b\": 2, \"c\": 3}\n",
    "dict2 = {\"d\": 4, \"e\": 5}\n",
    "\n",
    "dict1.update(dict2)\n",
    "\n",
    "print(dict1)"
   ]
  },
  {
   "cell_type": "code",
   "execution_count": 6,
   "id": "abe5be9a",
   "metadata": {},
   "outputs": [
    {
     "name": "stdout",
     "output_type": "stream",
     "text": [
      "{'a': 1, 'b': 2, 'c': 3}\n"
     ]
    }
   ],
   "source": [
    "# Write a Python program to convert key-values list to flat dictionary?\n",
    "l = [(\"a\", 1), (\"b\", 2), (\"c\", 3)]\n",
    "d = {}\n",
    "for k in l:\n",
    "    i, j = k\n",
    "    d[i] = j\n",
    "    \n",
    "print(d)"
   ]
  },
  {
   "cell_type": "code",
   "execution_count": 9,
   "id": "ec843937",
   "metadata": {},
   "outputs": [
    {
     "name": "stdout",
     "output_type": "stream",
     "text": [
      "OrderedDict([('d', 4), ('a', 1), ('b', 2), ('c', 3)])\n"
     ]
    }
   ],
   "source": [
    "# Write a Python program to insertion at the beginning in OrderedDict?\n",
    "from collections import OrderedDict\n",
    "\n",
    "def insert(odict, key, value):\n",
    "    odict[key] = value\n",
    "    odict.move_to_end(key, last=False)\n",
    "    \n",
    "odict = OrderedDict([(\"a\", 1), (\"b\", 2), (\"c\", 3)])\n",
    "insert(odict, \"d\", 4)\n",
    "print(odict) \n",
    "\n"
   ]
  },
  {
   "cell_type": "code",
   "execution_count": 10,
   "id": "2f4fbe11",
   "metadata": {},
   "outputs": [
    {
     "name": "stdout",
     "output_type": "stream",
     "text": [
      "Pattern found!\n"
     ]
    }
   ],
   "source": [
    "# Write a Python program to check order of character in string using OrderedDict()?\n",
    "from collections import OrderedDict\n",
    "\n",
    "def check_order(string, pattern):\n",
    "    d = OrderedDict.fromkeys(pattern)\n",
    "    index = 0\n",
    "    for key in d:\n",
    "        if key in string[index:]:\n",
    "            index += string[index:].index(key) + 1\n",
    "        else:\n",
    "            return False\n",
    "    return True\n",
    "\n",
    "\n",
    "string = \"Hello, world!\"\n",
    "pattern = \"llo\"\n",
    "if check_order(string, pattern):\n",
    "    print(\"Pattern found!\")\n",
    "else:\n",
    "    print(\"Pattern not found.\")\n"
   ]
  },
  {
   "cell_type": "code",
   "execution_count": 11,
   "id": "df473758",
   "metadata": {},
   "outputs": [
    {
     "name": "stdout",
     "output_type": "stream",
     "text": [
      "{'a': 1, 'b': 2, 'c': 3}\n",
      "{'a': 1, 'b': 2, 'c': 3}\n"
     ]
    }
   ],
   "source": [
    "# Write a Python program to sort Python Dictionaries by Key or Value?\n",
    "def sort_dict(dictionary, by_key=True, reverse=False):\n",
    "    if by_key:\n",
    "        return dict(sorted(dictionary.items(), key=lambda x: x[0], reverse=reverse))\n",
    "    else:\n",
    "        return dict(sorted(dictionary.items(), key=lambda x: x[1], reverse=reverse))\n",
    "\n",
    "dictionary = {\"c\": 3, \"a\": 1, \"b\": 2}\n",
    "sorted_by_key = sort_dict(dictionary, by_key=True)\n",
    "sorted_by_value = sort_dict(dictionary, by_key=False)\n",
    "\n",
    "print(sorted_by_key)    \n",
    "print(sorted_by_value)  \n"
   ]
  },
  {
   "cell_type": "code",
   "execution_count": null,
   "id": "fa9f3f10",
   "metadata": {},
   "outputs": [],
   "source": []
  },
  {
   "cell_type": "code",
   "execution_count": null,
   "id": "c509661f",
   "metadata": {},
   "outputs": [],
   "source": []
  },
  {
   "cell_type": "code",
   "execution_count": null,
   "id": "1334c2f2",
   "metadata": {},
   "outputs": [],
   "source": []
  },
  {
   "cell_type": "code",
   "execution_count": null,
   "id": "34e025a5",
   "metadata": {},
   "outputs": [],
   "source": []
  }
 ],
 "metadata": {
  "kernelspec": {
   "display_name": "Python 3 (ipykernel)",
   "language": "python",
   "name": "python3"
  },
  "language_info": {
   "codemirror_mode": {
    "name": "ipython",
    "version": 3
   },
   "file_extension": ".py",
   "mimetype": "text/x-python",
   "name": "python",
   "nbconvert_exporter": "python",
   "pygments_lexer": "ipython3",
   "version": "3.10.9"
  }
 },
 "nbformat": 4,
 "nbformat_minor": 5
}
