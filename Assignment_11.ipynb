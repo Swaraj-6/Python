{
 "cells": [
  {
   "cell_type": "code",
   "execution_count": 2,
   "id": "e459e653",
   "metadata": {},
   "outputs": [
    {
     "name": "stdout",
     "output_type": "stream",
     "text": [
      "Enter the length :6\n",
      "False\n"
     ]
    }
   ],
   "source": [
    "# Write a Python program to find words which are greater than given length k?\n",
    "s = \"Swaraj\"\n",
    "n = int(input(\"Enter the length :\"))\n",
    "if len(s) > n:\n",
    "    print(True)\n",
    "else:\n",
    "    print(False)"
   ]
  },
  {
   "cell_type": "code",
   "execution_count": 6,
   "id": "3e13665d",
   "metadata": {},
   "outputs": [
    {
     "name": "stdout",
     "output_type": "stream",
     "text": [
      "Enter the index you want to remove :4\n",
      "Swarj\n"
     ]
    }
   ],
   "source": [
    "# Write a Python program for removing i-th character from a string?\n",
    "s = \"Swaraj\"\n",
    "n = int(input(\"Enter the index you want to remove :\"))\n",
    "ns = \"\"\n",
    "for i in range(len(s)):\n",
    "    if i != n:\n",
    "        ns+=s[i]\n",
    "        \n",
    "print(ns)"
   ]
  },
  {
   "cell_type": "code",
   "execution_count": 9,
   "id": "bb9caacd",
   "metadata": {},
   "outputs": [
    {
     "name": "stdout",
     "output_type": "stream",
     "text": [
      "['Hi,', 'I', 'am', 'swaraj']\n",
      "Hi, I am swaraj\n"
     ]
    }
   ],
   "source": [
    "# Write a Python program to split and join a string?\n",
    "s = \"Hi, I am swaraj\"\n",
    "l = []\n",
    "l = s.split(\" \")\n",
    "print(l)\n",
    "print(\" \".join(l))"
   ]
  },
  {
   "cell_type": "code",
   "execution_count": 14,
   "id": "84f1d137",
   "metadata": {},
   "outputs": [
    {
     "name": "stdout",
     "output_type": "stream",
     "text": [
      "Yes\n"
     ]
    }
   ],
   "source": [
    "# Write a Python to check if a given string is binary string or not?\n",
    "st = \"01010010\"\n",
    "p = set(st)\n",
    "s = {'0','1'}\n",
    "if s == p or p == {'0'} or p == {'1'}:\n",
    "    print(\"Yes\")\n",
    "else:\n",
    "    print(\"No\")"
   ]
  },
  {
   "cell_type": "code",
   "execution_count": 15,
   "id": "d53c347b",
   "metadata": {},
   "outputs": [
    {
     "name": "stdout",
     "output_type": "stream",
     "text": [
      "['I', 'am', 'my', 'name', 'is']\n"
     ]
    }
   ],
   "source": [
    "# Write a Python program to find uncommon words from two Strings?\n",
    "d = {}\n",
    "a = \"Hi, I am Swaraj\"\n",
    "b = \"Hi, my name is Swaraj\"\n",
    "for w in a.split():\n",
    "    d[w] = d.get(w, 0) + 1\n",
    "\n",
    "for w in b.split():\n",
    "    d[w] = d.get(w, 0) + 1    \n",
    "    \n",
    "print([word for word in d if d[word] == 1])"
   ]
  },
  {
   "cell_type": "code",
   "execution_count": 16,
   "id": "bfdb8d29",
   "metadata": {},
   "outputs": [
    {
     "name": "stdout",
     "output_type": "stream",
     "text": [
      "['Hi,', 'Swaraj']\n"
     ]
    }
   ],
   "source": [
    "# Write a Python to find all duplicate characters in string?\n",
    "d = {}\n",
    "a = \"Hi, I am Swaraj\"\n",
    "b = \"Hi, my name is Swaraj\"\n",
    "for w in a.split():\n",
    "    d[w] = d.get(w, 0) + 1\n",
    "\n",
    "for w in b.split():\n",
    "    d[w] = d.get(w, 0) + 1    \n",
    "    \n",
    "print([word for word in d if d[word] > 1])"
   ]
  },
  {
   "cell_type": "code",
   "execution_count": 17,
   "id": "ac4989c5",
   "metadata": {},
   "outputs": [
    {
     "name": "stdout",
     "output_type": "stream",
     "text": [
      "Contain special characters\n"
     ]
    }
   ],
   "source": [
    "# Write a Python Program to check if a string contains any special character?\n",
    "n = \"Swaraj@kakade\"\n",
    "n.split()\n",
    "c = 0\n",
    "s = '[@_!#$%^&*()<>?/\\|}{~:]' \n",
    "for i in range(len(n)):\n",
    "    if n[i] in s:\n",
    "        c += 1\n",
    "        \n",
    "if c:\n",
    "    print(\"Contain special characters\")\n",
    "else:\n",
    "    print(\"Not Contain special characters\")    "
   ]
  },
  {
   "cell_type": "code",
   "execution_count": null,
   "id": "19b13427",
   "metadata": {},
   "outputs": [],
   "source": []
  },
  {
   "cell_type": "code",
   "execution_count": null,
   "id": "7b839468",
   "metadata": {},
   "outputs": [],
   "source": []
  },
  {
   "cell_type": "code",
   "execution_count": null,
   "id": "68c5fb0a",
   "metadata": {},
   "outputs": [],
   "source": []
  },
  {
   "cell_type": "code",
   "execution_count": null,
   "id": "c065992d",
   "metadata": {},
   "outputs": [],
   "source": []
  },
  {
   "cell_type": "code",
   "execution_count": null,
   "id": "72543c58",
   "metadata": {},
   "outputs": [],
   "source": []
  }
 ],
 "metadata": {
  "kernelspec": {
   "display_name": "Python 3 (ipykernel)",
   "language": "python",
   "name": "python3"
  },
  "language_info": {
   "codemirror_mode": {
    "name": "ipython",
    "version": 3
   },
   "file_extension": ".py",
   "mimetype": "text/x-python",
   "name": "python",
   "nbconvert_exporter": "python",
   "pygments_lexer": "ipython3",
   "version": "3.10.9"
  }
 },
 "nbformat": 4,
 "nbformat_minor": 5
}
